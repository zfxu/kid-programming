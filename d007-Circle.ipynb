{
 "cells": [
  {
   "cell_type": "code",
   "execution_count": 2,
   "metadata": {
    "collapsed": true
   },
   "outputs": [],
   "source": [
    "import numpy as np\n",
    "import matplotlib.pyplot as plt\n",
    "import cv2\n",
    "%matplotlib inline"
   ]
  },
  {
   "cell_type": "code",
   "execution_count": 25,
   "metadata": {},
   "outputs": [
    {
     "data": {
      "text/plain": [
       "<matplotlib.image.AxesImage at 0x7f1f6afd0b00>"
      ]
     },
     "execution_count": 25,
     "metadata": {},
     "output_type": "execute_result"
    },
    {
     "data": {
      "image/png": "[encoded data removed]",
      "text/plain": [
       "<matplotlib.figure.Figure at 0x7f1f6b04b240>"
      ]
     },
     "metadata": {},
     "output_type": "display_data"
    }
   ],
   "source": [
    "img = np.zeros((400, 400, 3)).astype('uint8')\n",
    "def point(img, pt, size, color):\n",
    "    cv2.circle(img, pt, size, color, thickness=-1)\n",
    "    \n",
    "n = 1000\n",
    "r = 100\n",
    "x0, y0 = 200, 200\n",
    "for i in range(n // 5):\n",
    "    theta = i * 2 * np.pi / n\n",
    "    pt = (x0 + r * np.cos(theta), y0 + r * np.sin(theta))\n",
    "    pt = (int(pt[0]), int(pt[1]))\n",
    "    point(img, pt, 1, (255, 0, 0))\n",
    "\n",
    "plt.imshow(img)"
   ]
  },
  {
   "cell_type": "code",
   "execution_count": 9,
   "metadata": {},
   "outputs": [
    {
     "data": {
      "text/plain": [
       "<matplotlib.image.AxesImage at 0x7f0ffdf66080>"
      ]
     },
     "execution_count": 9,
     "metadata": {},
     "output_type": "execute_result"
    },
    {
     "data": {
      "image/png": "[encoded data removed]",
      "text/plain": [
       "<matplotlib.figure.Figure at 0x7f0ffdfcf7f0>"
      ]
     },
     "metadata": {},
     "output_type": "display_data"
    }
   ],
   "source": [
    "img = np.zeros((400, 400, 3)).astype('uint8')\n",
    "def point(img, pt, size, color):\n",
    "    cv2.circle(img, pt, size, color, thickness=-1)\n",
    "    \n",
    "n = 10000\n",
    "r = 100\n",
    "r2 = 30\n",
    "k = 10\n",
    "x0, y0 = 200, 200\n",
    "for i in range(n):\n",
    "    theta = i * 2 * np.pi / n\n",
    "    alpha = (theta * k) % (np.pi * 2)\n",
    "    pt = (x0 + r * np.cos(theta) + r2 * np.cos(alpha), y0 + r * np.sin(theta) + r2 * np.sin(alpha))\n",
    "    pt = (int(pt[0]), int(pt[1]))\n",
    "    point(img, pt, 1, (255, 0, 0))\n",
    "\n",
    "plt.imshow(img)"
   ]
  },
  {
   "cell_type": "code",
   "execution_count": null,
   "metadata": {
    "collapsed": true
   },
   "outputs": [],
   "source": []
  }
 ],
 "metadata": {
  "kernelspec": {
   "display_name": "Python 3",
   "language": "python",
   "name": "python3"
  },
  "language_info": {
   "codemirror_mode": {
    "name": "ipython",
    "version": 3
   },
   "file_extension": ".py",
   "mimetype": "text/x-python",
   "name": "python",
   "nbconvert_exporter": "python",
   "pygments_lexer": "ipython3",
   "version": "3.5.3"
  }
 },
 "nbformat": 4,
 "nbformat_minor": 2
}
