{
 "cells": [
  {
   "cell_type": "code",
   "execution_count": 21,
   "metadata": {
    "collapsed": true
   },
   "outputs": [],
   "source": [
    "import numpy as np\n",
    "import time"
   ]
  },
  {
   "cell_type": "code",
   "execution_count": 30,
   "metadata": {},
   "outputs": [
    {
     "name": "stdout",
     "output_type": "stream",
     "text": [
      "6 - 4\n",
      "9 - 2\n",
      "7 - 7\n",
      "8 - 2\n",
      "5 - 1\n",
      "66.73016715049744\n"
     ]
    }
   ],
   "source": [
    "old = time.time()\n",
    "for i in range(5):\n",
    "    while True:\n",
    "        a=np.random.randint(10)\n",
    "        b=np.random.randint(10)\n",
    "        op = np.random.randint(2)\n",
    "        if op == 0:\n",
    "            if a+b<10:\n",
    "                 break\n",
    "        else: # op == 1\n",
    "            if a - b >= 0:\n",
    "                break\n",
    "    if op == 0:\n",
    "        print(a,'+',b,end='')\n",
    "    else: # op == 1\n",
    "        print(a,'-',b,end='')\n",
    "    input()\n",
    "print(time.time()-old)"
   ]
  },
  {
   "cell_type": "code",
   "execution_count": null,
   "metadata": {
    "collapsed": true
   },
   "outputs": [],
   "source": []
  },
  {
   "cell_type": "code",
   "execution_count": 45,
   "metadata": {},
   "outputs": [
    {
     "name": "stdout",
     "output_type": "stream",
     "text": [
      "279 + 186\n",
      "861 - 658\n",
      "387 + 421\n",
      "62 + 267\n",
      "729 - 454\n",
      "875 - 405\n",
      "87 + 129\n",
      "748 - 321\n",
      "383 - 49\n",
      "600 - 244\n",
      "103.47715592384338\n"
     ]
    }
   ],
   "source": [
    "old = time.time()\n",
    "for i in range(10):\n",
    "    while True:\n",
    "        op = np.random.choice(['+','-','*'])        \n",
    "        a=np.random.randint(1000)\n",
    "        b=np.random.randint(1000)\n",
    "        if op == '+':\n",
    "            if a+b<1000:\n",
    "                 break\n",
    "        elif op == '*':\n",
    "            if a*b<1000:\n",
    "                break\n",
    "        else: # op == '-'\n",
    "            if a - b >= 0:\n",
    "                break\n",
    "    print(a, op ,b,end='')\n",
    "    input()\n",
    "print(time.time()-old)"
   ]
  },
  {
   "cell_type": "code",
   "execution_count": null,
   "metadata": {
    "collapsed": true
   },
   "outputs": [],
   "source": [
    "\n",
    "\n",
    "\n"
   ]
  },
  {
   "cell_type": "code",
   "execution_count": null,
   "metadata": {
    "collapsed": true
   },
   "outputs": [],
   "source": []
  },
  {
   "cell_type": "code",
   "execution_count": null,
   "metadata": {
    "collapsed": true
   },
   "outputs": [],
   "source": []
  },
  {
   "cell_type": "code",
   "execution_count": null,
   "metadata": {
    "collapsed": true
   },
   "outputs": [],
   "source": []
  }
 ],
 "metadata": {
  "kernelspec": {
   "display_name": "Python 3",
   "language": "python",
   "name": "python3"
  },
  "language_info": {
   "codemirror_mode": {
    "name": "ipython",
    "version": 3
   },
   "file_extension": ".py",
   "mimetype": "text/x-python",
   "name": "python",
   "nbconvert_exporter": "python",
   "pygments_lexer": "ipython3",
   "version": "3.5.3"
  }
 },
 "nbformat": 4,
 "nbformat_minor": 2
}
