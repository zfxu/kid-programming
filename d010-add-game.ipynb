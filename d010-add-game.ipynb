{
 "cells": [
  {
   "cell_type": "code",
   "execution_count": 21,
   "metadata": {
    "collapsed": true
   },
   "outputs": [],
   "source": [
    "import numpy as np\n",
    "import time"
   ]
  },
  {
   "cell_type": "code",
   "execution_count": 30,
   "metadata": {},
   "outputs": [
    {
     "name": "stdout",
     "output_type": "stream",
     "text": [
      "6 - 4\n",
      "9 - 2\n",
      "7 - 7\n",
      "8 - 2\n",
      "5 - 1\n",
      "66.73016715049744\n"
     ]
    }
   ],
   "source": [
    "old = time.time()\n",
    "for i in range(5):\n",
    "    while True:\n",
    "        a=np.random.randint(10)\n",
    "        b=np.random.randint(10)\n",
    "        op = np.random.randint(2)\n",
    "        if op == 0:\n",
    "            if a+b<10:\n",
    "                 break\n",
    "        else: # op == 1\n",
    "            if a - b >= 0:\n",
    "                break\n",
    "    if op == 0:\n",
    "        print(a,'+',b,end='')\n",
    "    else: # op == 1\n",
    "        print(a,'-',b,end='')\n",
    "    input()\n",
    "print(time.time()-old)"
   ]
  },
  {
   "cell_type": "code",
   "execution_count": null,
   "metadata": {
    "collapsed": true
   },
   "outputs": [],
   "source": []
  },
  {
   "cell_type": "code",
   "execution_count": 36,
   "metadata": {},
   "outputs": [
    {
     "name": "stdout",
     "output_type": "stream",
     "text": [
      "943 - 716\n",
      "502 - 198\n",
      "821 - 87\n",
      "933 - 349\n",
      "984 - 711\n",
      "387 + 540\n",
      "373 - 139\n",
      "160 + 613\n",
      "686 - 140\n",
      "572 + 318\n",
      "23.402624130249023\n"
     ]
    }
   ],
   "source": [
    "old = time.time()\n",
    "for i in range(10):\n",
    "    while True:\n",
    "        a=np.random.randint(1000)\n",
    "        b=np.random.randint(1000)\n",
    "        op = np.random.randint(2)\n",
    "        if op == 0:\n",
    "            if a+b<1000:\n",
    "                 break\n",
    "        else: # op == 1\n",
    "            if a - b >= 0:\n",
    "                break\n",
    "    if op == 0:\n",
    "        print(a,'+',b,end='')\n",
    "    else: # op == 1\n",
    "        print(a,'-',b,end='')\n",
    "    input()\n",
    "print(time.time()-old)"
   ]
  },
  {
   "cell_type": "code",
   "execution_count": null,
   "metadata": {
    "collapsed": true
   },
   "outputs": [],
   "source": []
  },
  {
   "cell_type": "code",
   "execution_count": null,
   "metadata": {
    "collapsed": true
   },
   "outputs": [],
   "source": []
  },
  {
   "cell_type": "code",
   "execution_count": null,
   "metadata": {
    "collapsed": true
   },
   "outputs": [],
   "source": []
  }
 ],
 "metadata": {
  "kernelspec": {
   "display_name": "Python 3",
   "language": "python",
   "name": "python3"
  },
  "language_info": {
   "codemirror_mode": {
    "name": "ipython",
    "version": 3
   },
   "file_extension": ".py",
   "mimetype": "text/x-python",
   "name": "python",
   "nbconvert_exporter": "python",
   "pygments_lexer": "ipython3",
   "version": "3.6.1"
  }
 },
 "nbformat": 4,
 "nbformat_minor": 2
}
