{
 "cells": [
  {
   "cell_type": "code",
   "execution_count": 4,
   "metadata": {
    "collapsed": true
   },
   "outputs": [],
   "source": [
    "import numpy as np\n",
    "import time"
   ]
  },
  {
   "cell_type": "code",
   "execution_count": 19,
   "metadata": {},
   "outputs": [
    {
     "name": "stdout",
     "output_type": "stream",
     "text": [
      "357 + 247\n",
      "155 + 473\n",
      "4 + 777\n",
      "137 + 470\n",
      "736 - 203\n",
      "39.345417976379395\n"
     ]
    }
   ],
   "source": [
    "old = time.time()\n",
    "for i in range(5):\n",
    "    while True:\n",
    "        a=np.random.randint(10)\n",
    "        b=np.random.randint(10)\n",
    "        op = np.random.randint(2)\n",
    "        if op == 0:\n",
    "            if a+b<10:\n",
    "                 break\n",
    "        else: # op == 1\n",
    "            if a - b >= 0:\n",
    "                break\n",
    "    if op == 0:\n",
    "        print(a,'+',b,end='')\n",
    "    else: # op == 1\n",
    "        print(a,'-',b,end='')\n",
    "    input()\n",
    "print(time.time()-old)"
   ]
  },
  {
   "cell_type": "code",
   "execution_count": 11,
   "metadata": {
    "collapsed": true
   },
   "outputs": [],
   "source": [
    "old = time.time()\n",
    "for i in range(5):\n",
    "    while True:\n",
    "        a=np.random.randint(1000)\n",
    "        b=np.random.randint(1000)\n",
    "        op = np.random.randint(2)\n",
    "        if op == 0:\n",
    "            if a+b<1000:\n",
    "                 break\n",
    "        else: # op == 1\n",
    "            if a - b >= 0:\n",
    "                break\n",
    "    if op == 0:\n",
    "        print(a,'+',b,end='')\n",
    "    else: # op == 1\n",
    "        print(a,'-',b,end='')\n",
    "    input()\n",
    "print(time.time()-old)"
   ]
  },
  {
   "cell_type": "code",
   "execution_count": null,
   "metadata": {},
   "outputs": [],
   "source": []
  },
  {
   "cell_type": "code",
   "execution_count": null,
   "metadata": {
    "collapsed": true
   },
   "outputs": [],
   "source": []
  },
  {
   "cell_type": "code",
   "execution_count": null,
   "metadata": {
    "collapsed": true
   },
   "outputs": [],
   "source": []
  }
 ],
 "metadata": {
  "kernelspec": {
   "display_name": "Python 3",
   "language": "python",
   "name": "python3"
  },
  "language_info": {
   "codemirror_mode": {
    "name": "ipython",
    "version": 3
   },
   "file_extension": ".py",
   "mimetype": "text/x-python",
   "name": "python",
   "nbconvert_exporter": "python",
   "pygments_lexer": "ipython3",
   "version": "3.6.1"
  }
 },
 "nbformat": 4,
 "nbformat_minor": 2
}
