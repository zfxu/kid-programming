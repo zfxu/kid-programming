{
 "cells": [
  {
   "cell_type": "code",
   "execution_count": 1,
   "metadata": {
    "collapsed": true
   },
   "outputs": [],
   "source": [
    "import numpy as np"
   ]
  },
  {
   "cell_type": "code",
   "execution_count": 78,
   "metadata": {},
   "outputs": [
    {
     "name": "stdout",
     "output_type": "stream",
     "text": [
      "4 - 3\n",
      "\n",
      "7 + 2\n",
      "\n",
      "0 + 8\n",
      "\n",
      "2 + 1\n",
      "\n",
      "4 + 5\n",
      "\n",
      "22.033457040786743\n"
     ]
    }
   ],
   "source": [
    "old = time.time()\n",
    "for i in range(5):\n",
    "    while True:\n",
    "        a=np.random.randint(10)\n",
    "        b=np.random.randint(10)\n",
    "        op = np.random.randint(2)\n",
    "        if op == 0:\n",
    "            if a+b<10:\n",
    "                 break\n",
    "        else: # op == 1\n",
    "            if a - b >= 0:\n",
    "                break\n",
    "    if op == 0:\n",
    "        print(a,'+',b)\n",
    "    else: # op == 1\n",
    "        print(a,'-',b)\n",
    "    input()\n",
    "print(time.time()-old)"
   ]
  },
  {
   "cell_type": "code",
   "execution_count": 66,
   "metadata": {
    "collapsed": true
   },
   "outputs": [],
   "source": [
    "import time"
   ]
  },
  {
   "cell_type": "code",
   "execution_count": 74,
   "metadata": {},
   "outputs": [
    {
     "name": "stdout",
     "output_type": "stream",
     "text": [
      "j\n"
     ]
    },
    {
     "data": {
      "text/plain": [
       "7.015177965164185"
      ]
     },
     "execution_count": 74,
     "metadata": {},
     "output_type": "execute_result"
    }
   ],
   "source": []
  },
  {
   "cell_type": "code",
   "execution_count": null,
   "metadata": {
    "collapsed": true
   },
   "outputs": [],
   "source": []
  },
  {
   "cell_type": "code",
   "execution_count": null,
   "metadata": {
    "collapsed": true
   },
   "outputs": [],
   "source": []
  }
 ],
 "metadata": {
  "kernelspec": {
   "display_name": "Python 3",
   "language": "python",
   "name": "python3"
  },
  "language_info": {
   "codemirror_mode": {
    "name": "ipython",
    "version": 3
   },
   "file_extension": ".py",
   "mimetype": "text/x-python",
   "name": "python",
   "nbconvert_exporter": "python",
   "pygments_lexer": "ipython3",
   "version": "3.6.1"
  }
 },
 "nbformat": 4,
 "nbformat_minor": 2
}
