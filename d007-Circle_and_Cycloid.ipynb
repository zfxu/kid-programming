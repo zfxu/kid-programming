{
 "cells": [
  {
   "cell_type": "code",
   "execution_count": 4,
   "metadata": {
    "collapsed": true
   },
   "outputs": [],
   "source": [
    "import numpy as np\n",
    "import matplotlib.pyplot as plt\n",
    "import cv2\n",
    "%matplotlib inline"
   ]
  },
  {
   "cell_type": "code",
   "execution_count": 23,
   "metadata": {},
   "outputs": [
    {
     "data": {
      "text/plain": [
       "<matplotlib.image.AxesImage at 0x1133a40f0>"
      ]
     },
     "execution_count": 23,
     "metadata": {},
     "output_type": "execute_result"
    },
    {
     "data": {
      "image/png": "[encoded data removed]",
      "text/plain": [
       "<matplotlib.figure.Figure at 0x112de9940>"
      ]
     },
     "metadata": {},
     "output_type": "display_data"
    }
   ],
   "source": [
    "img = np.zeros((400, 400, 3)).astype('uint8')\n",
    "\n",
    "def draw_point(img, pt, size, color):\n",
    "    cv2.circle(img, pt, size, color, thickness=-1)\n",
    "    \n",
    "n = 1000\n",
    "r = 200\n",
    "x0, y0 = 200, 200\n",
    "for i in range(n //4*3):\n",
    "    theta = i * 2 * np.pi / n\n",
    "    pt = (x0 + r * np.cos(theta), y0 + r * np.sin(theta))\n",
    "    pt = (int(pt[0]), int(pt[1]))\n",
    "    draw_point(img, pt, 1, (255, 0, 255))\n",
    "\n",
    "plt.imshow(img)"
   ]
  },
  {
   "cell_type": "code",
   "execution_count": 38,
   "metadata": {},
   "outputs": [
    {
     "data": {
      "text/plain": [
       "<matplotlib.image.AxesImage at 0x114972940>"
      ]
     },
     "execution_count": 38,
     "metadata": {},
     "output_type": "execute_result"
    },
    {
     "data": {
      "image/png": "[encoded data removed]",
      "text/plain": [
       "<matplotlib.figure.Figure at 0x113d56f60>"
      ]
     },
     "metadata": {},
     "output_type": "display_data"
    }
   ],
   "source": [
    "img = np.zeros((400, 400, 3)).astype('uint8')\n",
    "def point(img, pt, size, color):\n",
    "    cv2.circle(img, pt, size, color, thickness=-1)\n",
    "    \n",
    "n = 10000\n",
    "r = 100\n",
    "r2 = 100\n",
    "k = 4\n",
    "x0, y0 = 200, 200\n",
    "for i in range(n):\n",
    "    theta = i * 2 * np.pi / n\n",
    "    alpha = theta * k\n",
    "    x1 = x0 + r * np.cos(theta)\n",
    "    y1 = y0 + r * np.sin(theta)\n",
    "    pt = (x1 + r2 * np.cos(alpha), y1 + r2 * np.sin(alpha))\n",
    "    pt = (int(pt[0]), int(pt[1]))\n",
    "    point(img, pt, 1, (255, 0, 0))\n",
    "\n",
    "plt.imshow(img)"
   ]
  },
  {
   "cell_type": "code",
   "execution_count": null,
   "metadata": {
    "collapsed": true
   },
   "outputs": [],
   "source": []
  }
 ],
 "metadata": {
  "kernelspec": {
   "display_name": "Python 3",
   "language": "python",
   "name": "python3"
  },
  "language_info": {
   "codemirror_mode": {
    "name": "ipython",
    "version": 3
   },
   "file_extension": ".py",
   "mimetype": "text/x-python",
   "name": "python",
   "nbconvert_exporter": "python",
   "pygments_lexer": "ipython3",
   "version": "3.6.1"
  }
 },
 "nbformat": 4,
 "nbformat_minor": 2
}
